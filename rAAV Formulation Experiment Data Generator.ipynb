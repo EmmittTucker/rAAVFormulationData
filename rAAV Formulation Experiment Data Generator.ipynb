{
 "cells": [
  {
   "cell_type": "markdown",
   "id": "2cb414c4",
   "metadata": {},
   "source": [
    "# OpenSource Citizen Science rAAV Drug Product Formulation Data Generator"
   ]
  },
  {
   "cell_type": "markdown",
   "id": "008a50fe",
   "metadata": {},
   "source": [
    "## Introduction"
   ]
  },
  {
   "cell_type": "markdown",
   "id": "ba60c399",
   "metadata": {},
   "source": [
    "### The Problem "
   ]
  },
  {
   "cell_type": "markdown",
   "id": "885e5c40",
   "metadata": {},
   "source": [
    "I was looking online for opensource training data from recombinant adeno-associated virus drug product formulation development to try and work on developing a machine learning algorithm. Tried as I might, I was unable to find anything online that fit my purpose."
   ]
  },
  {
   "cell_type": "markdown",
   "id": "ebb1fc57",
   "metadata": {},
   "source": [
    "### The Solution "
   ]
  },
  {
   "cell_type": "markdown",
   "id": "f1ea2b56",
   "metadata": {},
   "source": [
    "In order to get data for training a potential machine learning models, I needed to generate synthetic data systematically. I am not a formulation scientist, or even a chemist, but I was able to figure out some of the basic information about rAAV formulation through ChatGPT. I also was able to figure out how to generate data that is somewhat realistic using chatGPT. "
   ]
  },
  {
   "cell_type": "markdown",
   "id": "5d1e4e33",
   "metadata": {},
   "source": [
    "### The Code "
   ]
  },
  {
   "cell_type": "code",
   "execution_count": null,
   "id": "8a66b062",
   "metadata": {},
   "outputs": [],
   "source": [
    "import pandas as pd\n",
    "import numpy as np\n",
    "\n",
    "# Generate synthetic data\n",
    "np.random.seed(42)\n",
    "num_samples = 1000\n",
    "\n",
    "# AAV Serotype\n",
    "aav_serotypes = ['AAV1', 'AAV2', 'AAV3B', 'AAV5', 'AAV6', 'AAV8','AAV9']\n",
    "aav_serotype = np.random.choice(aav_serotypes, num_samples)\n",
    "\n",
    "# Vector Concentration in VG/mL\n",
    "vector_concentration = np.random.uniform(1.0e12, 1.0e14, num_samples)\n",
    "\n",
    "#Cryoprotectant Type\n",
    "cryoprotectant_types = ['DMSO','Glycerol','PEG','Trehalose','Sucrose','Mannitol','Sorbitol','Ethylene_Glycol','Propylene_Glycol']\n",
    "cryoprotectant_type = np.random.choice(cryoprotectant_types, num_samples)\n",
    "\n",
    "#Cryoprotectant Concentration in v/v or v/w\n",
    "cryoprotectant_concentration = np.random.uniform(1.0, 10.0, num_samples)\n",
    "\n",
    "#Lyoprotectant Type\n",
    "lypoprotectant_types = ['Trehalose','Mannitol','Sucrose','Sorbitol','Maltose','Lactose','Mannose']\n",
    "lypoprotectant_type = np.random.choice(lypoprotectant_types, num_samples)\n",
    "\n",
    "#Lyoprotectant Concentration in v/v or v/w\n",
    "lyoprotectant_concentration = np.random.uniform(1.0, 10.0, num_samples)\n",
    "\n",
    "#Surfactant Type \n",
    "surfactant_types = ['Polysorbate_80', 'Poloxamer','Pluronic_F68','Triton_X100','SDS','Pluronics']\n",
    "surfactant_type = np.random.choice(surfactant_types, num_samples)\n",
    "\n",
    "#Surfactant Concentration in v/v\n",
    "surfactant_concentration = np.random.uniform(0.01, 0.1,num_samples)\n",
    "\n",
    "# Buffer Type\n",
    "buffer_types = ['PBS', 'HEPES', 'Tris', 'Sodium_Phosphate','Acetate_Buffer']\n",
    "buffer_type = np.random.choice(buffer_types, num_samples)\n",
    "\n",
    "# Buffer pH\n",
    "buffer_pH = np.random.uniform(7.2, 8.5, num_samples)\n",
    "\n",
    "# Buffer Concentration in moles\n",
    "buffer_concentration = np.random.uniform(0.01, 0.15, num_samples)\n",
    "\n",
    "# Bulking Agent Type\n",
    "bulkingagent_types = ['Mannitol','Sucrose','Sorbitol']\n",
    "bulkingagent_type = np.random.choice(bulkingagent_types, num_samples)\n",
    "\n",
    "# Bulking Agent Concentration in moles\n",
    "bulkingagent_concentration = np.random.uniform(1,10, num_samples)\n",
    "\n",
    "# Preservatives Type\n",
    "preservative_types = ['Ethanol','Phenol','Benzyl_Alcohol']\n",
    "preservative_type = np.random.choice(bulkingagent_types, num_samples)\n",
    "\n",
    "# Preservative Concentration in v/v\n",
    "preservative_concentration = np.random.uniform(0.1, 2, num_samples)\n",
    "\n",
    "# Stability (in months)\n",
    "stability = np.random.randint(6, 12, num_samples)\n",
    "\n",
    "# Lethality types\n",
    "lethality_types = ['Yes','No']\n",
    "lethality_type = np.random.choice(lethality_types, num_samples)\n",
    "\n",
    "\n",
    "# Create an empty list to store each sample's DataFrame\n",
    "dfs = []\n",
    "\n",
    "# Convert each sample's data to a DataFrame and append to the list\n",
    "for i in range(num_samples):\n",
    "    sample_data = {\n",
    "        'AAV_Serotype': aav_serotype[i],\n",
    "        'Vector_Concentration': vector_concentration[i],\n",
    "        'Cryoprotectant_Type': cryoprotectant_type[i],\n",
    "        'Cyroprotectant_Concentration': cryoprotectant_concentration[i],\n",
    "        'Lypoprotectant_Type': lypoprotectant_type[i],\n",
    "        'Lypoprotectant_Concentration': lyoprotectant_concentration[i],\n",
    "        'Buffer_Type': buffer_type[i],\n",
    "        'Buffer_pH': buffer_pH[i],\n",
    "        'Buffer_Concentration': buffer_concentration[i],\n",
    "        'BulkingAgent_Type': bulkingagent_type[i],\n",
    "        'BulkingAgent_Concentration': bulkingagent_concentration[i],\n",
    "        'Preservatives_Types': preservative_type[i],\n",
    "        'Preservative_Concentration': preservative_concentration[i],\n",
    "        'Stability': stability[i],\n",
    "        'Lethality': lethality_type[i]\n",
    "    }\n",
    "    df = pd.DataFrame([sample_data])\n",
    "    dfs.append(df)\n",
    "\n",
    "# Concatenate all the DataFrames in the list\n",
    "data_df = pd.concat(dfs, ignore_index=True)\n",
    "\n",
    "# Save the dataset to a CSV file\n",
    "data_df.to_csv('synthetic_rAAV_formulation_data.csv', index=False)\n"
   ]
  },
  {
   "cell_type": "markdown",
   "id": "eb20bc2e",
   "metadata": {},
   "source": [
    "### Known Errors "
   ]
  },
  {
   "cell_type": "markdown",
   "id": "f0ace466",
   "metadata": {},
   "source": [
    "As mentioned, I am not a formulation scientist. Just a simple molecular biologist. I also wrote this code in about 4 hours, so I was unable to add all of the features that I wanted to. \n",
    "\n",
    "For example, some of the conentrations are not dependent on, say, the buffer type. So there will be obviously lethal combinations in the data that the algorithm would not be able to determine. My solution to this is to add contional formating to the data generation to make sure that concentration information is specific to the type of material it is associated with. \n",
    "\n",
    "If you're reading this and have any comments, I would love to hear them!"
   ]
  }
 ],
 "metadata": {
  "kernelspec": {
   "display_name": "Python 3",
   "language": "python",
   "name": "python3"
  },
  "language_info": {
   "codemirror_mode": {
    "name": "ipython",
    "version": 3
   },
   "file_extension": ".py",
   "mimetype": "text/x-python",
   "name": "python",
   "nbconvert_exporter": "python",
   "pygments_lexer": "ipython3",
   "version": "3.8.8"
  }
 },
 "nbformat": 4,
 "nbformat_minor": 5
}
